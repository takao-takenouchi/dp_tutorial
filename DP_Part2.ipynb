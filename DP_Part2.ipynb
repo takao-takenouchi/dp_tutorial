{
  "nbformat": 4,
  "nbformat_minor": 0,
  "metadata": {
    "colab": {
      "provenance": [],
      "include_colab_link": true
    },
    "kernelspec": {
      "name": "python3",
      "display_name": "Python 3"
    }
  },
  "cells": [
    {
      "cell_type": "markdown",
      "metadata": {
        "id": "view-in-github",
        "colab_type": "text"
      },
      "source": [
        "<a href=\"https://colab.research.google.com/github/takao-takenouchi/dp_tutorial/blob/main/DP_Part2.ipynb\" target=\"_parent\"><img src=\"https://colab.research.google.com/assets/colab-badge.svg\" alt=\"Open In Colab\"/></a>"
      ]
    },
    {
      "cell_type": "markdown",
      "source": [
        "# Part2: 応用（複数Contributionの対応）"
      ],
      "metadata": {
        "id": "3la76ZfzFs7W"
      }
    },
    {
      "cell_type": "markdown",
      "source": [
        "# はじめに\n",
        "\n",
        "Part2は、Part1に続いての応用編です。特に、Part1のはじめにで記載したGoogleが提供しているExampleを参考にして作成しています。"
      ],
      "metadata": {
        "id": "QOiWEpGIF0Y0"
      }
    },
    {
      "cell_type": "markdown",
      "source": [
        "## 「Part2:応用（複数Contributionの対応）」の学習内容\n",
        "\n",
        "Part2では以下の内容について学びます。\n",
        "*   複数contributionへの対応方法、contributionの上限を設定\n",
        "*   集計に応じたsensitibityの設計、事前集計によりsensitivityを減らす方法"
      ],
      "metadata": {
        "id": "Vmy3gV-LGCYR"
      }
    },
    {
      "cell_type": "markdown",
      "source": [
        "# Contributionとは"
      ],
      "metadata": {
        "id": "FjIEWVe5IAu8"
      }
    },
    {
      "cell_type": "markdown",
      "source": [
        "Part1では、一人が1レコードでありました。しかし、実際のDBは１名が複数レコードに存在するケースはよくあります。このような、あるテーブルにある１名がどのくらいのレコードに存在するかをContributionという用語で表現しています。（表現例： 山田太郎のContributionは2である。テーブル全体でContributionは高々5である）\n",
        "\n",
        "1名のユーザのプライバシーを保護するためには、その人がいる/いないに応じてsensitibityを考える必要があるため、contributionをどう考えるかは重要です。\n",
        "もし、contribuionが無限大であるとすると、sensitibityが設定できず、DPを適用できません。そこで、Contributionに上限を設けるのが一つのやり方です。\n",
        "\n",
        "例えば、ある1名があるECサイトで買い物するのは1日で高々4回程度とするのは、ある程度リーズナブルでしょう。\n",
        "そして、それ以上の回数買い物するのは外れ値として削除して集計しても良いと思います。そうすれば、sensitivityを設定でき、DPを適用できるようになります。\n",
        "\n",
        "なお、PyDPでは、`l0_sensitivity`の値で、このContributionの最大値を設定可能です。"
      ],
      "metadata": {
        "id": "Mkvm2e7ZGz2R"
      }
    },
    {
      "cell_type": "markdown",
      "source": [
        "# 分析シナリオ"
      ],
      "metadata": {
        "id": "iS_IKmZNH11Z"
      }
    },
    {
      "cell_type": "markdown",
      "source": [
        "今回は、ECサイトの収益データを集計する例を想定します。\n",
        "\n",
        "このデータは、{来客者 VisitorID、入店時間、滞在時間、曜日}で構成されます。\n",
        "\n",
        "集計者は、ECサイトの売上分析をしたい人（外部コンサル、外部の投資家など）とします。\n",
        "コンサルであれば、このECサイトの売上をあげるために分析がしたく、投資家であればこのECサイトのポテンシャルを図りたいと思うでしょう。\n",
        "\n",
        "集計のシナリオは以下の通りです。\n",
        "* 集計者は、毎月や毎週の売上の推移を見たところ、売上が順調に伸びていないことに気づきました。そこで、**ある週に限定**して、細かく分析することにしました。（一般に分析とは、分割することや、比較することです。分割の方法としては、時間の観点や、計算式の観点が考えられます）\n",
        "* ある週の売上は、時間の観点では、曜日に分割できます。また、売上高の観点では「売上 ＝ 一人当たりの平均売上 x 一人当たりの平均購入回数」のように分割できます。\n",
        "* よって、最新の1週間のデータについて、以下のような集計をすることにしました。\n",
        " * 集計1：曜日毎の購入者数\n",
        " * 集計2：曜日毎の売上高\n",
        "\n",
        "これらの集計結果から、曜日毎の一人当たりの売上単価もわかりますので、分析結果から何らかの施策検討もできる可能性があります。\n",
        "* 例えば、もし、平日の売上単価が低いのであれば、現在行っているxx円以上は割引キャンペーンを平日限定にして割引率を高くすることで、平日の売上増を狙うなどが考えられます。\n",
        "* 他の例では、もし、曜日で売上単価が変わらず、土日だけ来店者が多いなら、平日限定で広告を打ち購入者数を増やす手も考えられます。一般的に作業が平準化できると、効率（例：配送効率）が高くなり利益（売上-コスト）の向上が狙える可能性があります。（平準化していないと臨時バイトを雇ったり、配送遅延が起こり結果として効率が悪くなったり、コストが高くなったりすることがあります）\n"
      ],
      "metadata": {
        "id": "fJkdKo5oIJdi"
      }
    },
    {
      "cell_type": "markdown",
      "source": [
        "# サンプルコード\n",
        "\n"
      ],
      "metadata": {
        "id": "DC9FGtu7Gsfk"
      }
    },
    {
      "cell_type": "markdown",
      "source": [
        "## 準備"
      ],
      "metadata": {
        "id": "wAIm-rKNGtuW"
      }
    },
    {
      "cell_type": "code",
      "metadata": {
        "id": "gnKmqAi52M1H",
        "outputId": "412c64ac-a753-4f4f-a11d-b02cec50ca5e",
        "colab": {
          "base_uri": "https://localhost:8080/"
        }
      },
      "source": [
        "! pip install python-dp"
      ],
      "execution_count": 1,
      "outputs": [
        {
          "output_type": "stream",
          "name": "stdout",
          "text": [
            "Looking in indexes: https://pypi.org/simple, https://us-python.pkg.dev/colab-wheels/public/simple/\n",
            "Requirement already satisfied: python-dp in /usr/local/lib/python3.7/dist-packages (1.1.1)\n"
          ]
        }
      ]
    },
    {
      "cell_type": "code",
      "metadata": {
        "id": "fzFylK4w2c49"
      },
      "source": [
        "import pydp as dp\n",
        "from pydp.algorithms.laplacian import BoundedSum, Count\n",
        "\n",
        "import math\n",
        "import statistics as s\n",
        "import pandas as pd\n",
        "from collections import defaultdict, OrderedDict\n",
        "import matplotlib.pyplot as plt\n",
        "import numpy as np"
      ],
      "execution_count": 2,
      "outputs": []
    },
    {
      "cell_type": "markdown",
      "metadata": {
        "id": "f0I8ZOlZ2jKA"
      },
      "source": [
        "#### 処理のための設定"
      ]
    },
    {
      "cell_type": "code",
      "metadata": {
        "id": "mTthZ0EC2msi"
      },
      "source": [
        "_epsilon = 0.5"
      ],
      "execution_count": 3,
      "outputs": []
    },
    {
      "cell_type": "markdown",
      "metadata": {
        "id": "sJGTOtBhGfgh"
      },
      "source": [
        "### データ取得\n",
        "\n",
        "VisitorIdが来場者（購入者）のIDであり、Money spentが購入額、Dayは曜日を意味し1〜7の数値である。"
      ]
    },
    {
      "cell_type": "code",
      "metadata": {
        "id": "URYAhs9_4bb9",
        "outputId": "9fe78b87-bb65-47e5-ccc8-b36cc1bde84c",
        "colab": {
          "base_uri": "https://localhost:8080/",
          "height": 224
        }
      },
      "source": [
        "_day_visits = pd.read_csv('https://raw.githubusercontent.com/OpenMined/PyDP/dev/examples/Tutorial_2-restaurant_demo/week_data.csv', sep=\",\")\n",
        "print(\"data set size: \", _day_visits.shape)\n",
        "_day_visits.head()"
      ],
      "execution_count": 4,
      "outputs": [
        {
          "output_type": "stream",
          "name": "stdout",
          "text": [
            "data set size:  (2850, 5)\n"
          ]
        },
        {
          "output_type": "execute_result",
          "data": {
            "text/plain": [
              "   VisitorId Time entered  Time spent (minutes)  Money spent (euros)  Day\n",
              "0        580   9:27:00 AM                    29                   17    1\n",
              "1       1215   9:16:00 AM                    45                   18    1\n",
              "2        448  11:55:00 AM                    12                   16    1\n",
              "3        125  10:47:00 AM                    27                   20    1\n",
              "4        484  11:08:00 AM                    35                   13    1"
            ],
            "text/html": [
              "\n",
              "  <div id=\"df-20a4c1a2-75af-40ff-802e-bc05da0b655b\">\n",
              "    <div class=\"colab-df-container\">\n",
              "      <div>\n",
              "<style scoped>\n",
              "    .dataframe tbody tr th:only-of-type {\n",
              "        vertical-align: middle;\n",
              "    }\n",
              "\n",
              "    .dataframe tbody tr th {\n",
              "        vertical-align: top;\n",
              "    }\n",
              "\n",
              "    .dataframe thead th {\n",
              "        text-align: right;\n",
              "    }\n",
              "</style>\n",
              "<table border=\"1\" class=\"dataframe\">\n",
              "  <thead>\n",
              "    <tr style=\"text-align: right;\">\n",
              "      <th></th>\n",
              "      <th>VisitorId</th>\n",
              "      <th>Time entered</th>\n",
              "      <th>Time spent (minutes)</th>\n",
              "      <th>Money spent (euros)</th>\n",
              "      <th>Day</th>\n",
              "    </tr>\n",
              "  </thead>\n",
              "  <tbody>\n",
              "    <tr>\n",
              "      <th>0</th>\n",
              "      <td>580</td>\n",
              "      <td>9:27:00 AM</td>\n",
              "      <td>29</td>\n",
              "      <td>17</td>\n",
              "      <td>1</td>\n",
              "    </tr>\n",
              "    <tr>\n",
              "      <th>1</th>\n",
              "      <td>1215</td>\n",
              "      <td>9:16:00 AM</td>\n",
              "      <td>45</td>\n",
              "      <td>18</td>\n",
              "      <td>1</td>\n",
              "    </tr>\n",
              "    <tr>\n",
              "      <th>2</th>\n",
              "      <td>448</td>\n",
              "      <td>11:55:00 AM</td>\n",
              "      <td>12</td>\n",
              "      <td>16</td>\n",
              "      <td>1</td>\n",
              "    </tr>\n",
              "    <tr>\n",
              "      <th>3</th>\n",
              "      <td>125</td>\n",
              "      <td>10:47:00 AM</td>\n",
              "      <td>27</td>\n",
              "      <td>20</td>\n",
              "      <td>1</td>\n",
              "    </tr>\n",
              "    <tr>\n",
              "      <th>4</th>\n",
              "      <td>484</td>\n",
              "      <td>11:08:00 AM</td>\n",
              "      <td>35</td>\n",
              "      <td>13</td>\n",
              "      <td>1</td>\n",
              "    </tr>\n",
              "  </tbody>\n",
              "</table>\n",
              "</div>\n",
              "      <button class=\"colab-df-convert\" onclick=\"convertToInteractive('df-20a4c1a2-75af-40ff-802e-bc05da0b655b')\"\n",
              "              title=\"Convert this dataframe to an interactive table.\"\n",
              "              style=\"display:none;\">\n",
              "        \n",
              "  <svg xmlns=\"http://www.w3.org/2000/svg\" height=\"24px\"viewBox=\"0 0 24 24\"\n",
              "       width=\"24px\">\n",
              "    <path d=\"M0 0h24v24H0V0z\" fill=\"none\"/>\n",
              "    <path d=\"M18.56 5.44l.94 2.06.94-2.06 2.06-.94-2.06-.94-.94-2.06-.94 2.06-2.06.94zm-11 1L8.5 8.5l.94-2.06 2.06-.94-2.06-.94L8.5 2.5l-.94 2.06-2.06.94zm10 10l.94 2.06.94-2.06 2.06-.94-2.06-.94-.94-2.06-.94 2.06-2.06.94z\"/><path d=\"M17.41 7.96l-1.37-1.37c-.4-.4-.92-.59-1.43-.59-.52 0-1.04.2-1.43.59L10.3 9.45l-7.72 7.72c-.78.78-.78 2.05 0 2.83L4 21.41c.39.39.9.59 1.41.59.51 0 1.02-.2 1.41-.59l7.78-7.78 2.81-2.81c.8-.78.8-2.07 0-2.86zM5.41 20L4 18.59l7.72-7.72 1.47 1.35L5.41 20z\"/>\n",
              "  </svg>\n",
              "      </button>\n",
              "      \n",
              "  <style>\n",
              "    .colab-df-container {\n",
              "      display:flex;\n",
              "      flex-wrap:wrap;\n",
              "      gap: 12px;\n",
              "    }\n",
              "\n",
              "    .colab-df-convert {\n",
              "      background-color: #E8F0FE;\n",
              "      border: none;\n",
              "      border-radius: 50%;\n",
              "      cursor: pointer;\n",
              "      display: none;\n",
              "      fill: #1967D2;\n",
              "      height: 32px;\n",
              "      padding: 0 0 0 0;\n",
              "      width: 32px;\n",
              "    }\n",
              "\n",
              "    .colab-df-convert:hover {\n",
              "      background-color: #E2EBFA;\n",
              "      box-shadow: 0px 1px 2px rgba(60, 64, 67, 0.3), 0px 1px 3px 1px rgba(60, 64, 67, 0.15);\n",
              "      fill: #174EA6;\n",
              "    }\n",
              "\n",
              "    [theme=dark] .colab-df-convert {\n",
              "      background-color: #3B4455;\n",
              "      fill: #D2E3FC;\n",
              "    }\n",
              "\n",
              "    [theme=dark] .colab-df-convert:hover {\n",
              "      background-color: #434B5C;\n",
              "      box-shadow: 0px 1px 3px 1px rgba(0, 0, 0, 0.15);\n",
              "      filter: drop-shadow(0px 1px 2px rgba(0, 0, 0, 0.3));\n",
              "      fill: #FFFFFF;\n",
              "    }\n",
              "  </style>\n",
              "\n",
              "      <script>\n",
              "        const buttonEl =\n",
              "          document.querySelector('#df-20a4c1a2-75af-40ff-802e-bc05da0b655b button.colab-df-convert');\n",
              "        buttonEl.style.display =\n",
              "          google.colab.kernel.accessAllowed ? 'block' : 'none';\n",
              "\n",
              "        async function convertToInteractive(key) {\n",
              "          const element = document.querySelector('#df-20a4c1a2-75af-40ff-802e-bc05da0b655b');\n",
              "          const dataTable =\n",
              "            await google.colab.kernel.invokeFunction('convertToInteractive',\n",
              "                                                     [key], {});\n",
              "          if (!dataTable) return;\n",
              "\n",
              "          const docLinkHtml = 'Like what you see? Visit the ' +\n",
              "            '<a target=\"_blank\" href=https://colab.research.google.com/notebooks/data_table.ipynb>data table notebook</a>'\n",
              "            + ' to learn more about interactive tables.';\n",
              "          element.innerHTML = '';\n",
              "          dataTable['output_type'] = 'display_data';\n",
              "          await google.colab.output.renderOutput(dataTable, element);\n",
              "          const docLink = document.createElement('div');\n",
              "          docLink.innerHTML = docLinkHtml;\n",
              "          element.appendChild(docLink);\n",
              "        }\n",
              "      </script>\n",
              "    </div>\n",
              "  </div>\n",
              "  "
            ]
          },
          "metadata": {},
          "execution_count": 4
        }
      ]
    },
    {
      "cell_type": "markdown",
      "source": [
        "## 集計1：曜日毎の購入者数 （Contributionの最大値を設定）"
      ],
      "metadata": {
        "id": "eVPtXGG_PTBi"
      }
    },
    {
      "cell_type": "markdown",
      "source": [
        "前提：\n",
        "* 1名がECサイトで買い物するのは1週間で大人で4回程度(Contributionが4)とする\n",
        "* 1名は週に最大7回購入する可能性があるとする\n",
        "* epsilonを0.5とする\n",
        " (ただし、1週間の7日ごとにepsilonを消費するのでこのレポート全体ではepsilonは3.5となる)\n",
        "* なお、sensitivityはcountなので1である\n",
        "\n",
        "コードの概要：\n",
        "1. データ取得\n",
        "2. 関数定義: 事前処理としてContributionを超えているものを削除する関数\n",
        "3. 関数定義: DPなしでのcount集計する関数\n",
        "4. 関数定義: DPありでのcount集計する関数\n",
        "5. 関数定義: DPあり・なしの関数を呼び出す関数\n",
        "6. DPあり、DPなしの関数を呼び出して、結果表示"
      ],
      "metadata": {
        "id": "zIm5bB-jUN2Y"
      }
    },
    {
      "cell_type": "markdown",
      "source": [
        "### 関数定義：DPノイズを入れる前に、設定を超えるデータを削除する関数"
      ],
      "metadata": {
        "id": "6sfT7cW0Qpzt"
      }
    },
    {
      "cell_type": "code",
      "metadata": {
        "id": "uke2Xbeq2-5k"
      },
      "source": [
        "def bound_visits_per_week(df, limit):\n",
        "    \"\"\" 引数のDataFrame dfから、設定したContributuionの最大値である limit を満たす DataFrameを返すユーティリティ関数\n",
        "    \n",
        "    DataFrameの１列目のVisitorIdで来場者（購入者）を識別し、その人が、ある日(今回は1週間のデータなので、曜日（Day列）で日が決まる)において、\n",
        "    何回Contributeしているかカウントし、limitを超えてない分を含んだ新たなDataFrameを作成し、\n",
        "    それを返す。\n",
        "    \"\"\"\n",
        "    # 新たなDataFrameを作成し、その中に制限内のデータを入れていく。\n",
        "    updated_df = pd.DataFrame(columns=df.columns)\n",
        "    # 新たなDataFrameのindex管理のための変数\n",
        "    df_idx = 0\n",
        "\n",
        "    # visiter_idの訪問者が何回訪問したかをカウントするdicronary。\n",
        "    # visiterIDと訪問回数のマッピングしておき、訪問回数の最大値のlimitを超えていないか確認する\n",
        "    id_to_visited = defaultdict(int)\n",
        "\n",
        "    # 元のDataFrameの中身を見ていき、カウントしながら、limitを超えてなければ、新たなDataFrameに追加\n",
        "    for index in df.index:\n",
        "        if id_to_visited[df.loc[index][\"VisitorId\"]] < limit:\n",
        "            updated_df.loc[df_idx] = df.loc[index]\n",
        "            df_idx += 1\n",
        "            id_to_visited[df.loc[index][\"VisitorId\"]] += 1\n",
        "\n",
        "    return updated_df"
      ],
      "execution_count": 5,
      "outputs": []
    },
    {
      "cell_type": "markdown",
      "source": [
        "### 関数定義： DPノイズを入れずに、週毎にカウントする関数"
      ],
      "metadata": {
        "id": "FuwD3xvfRaTP"
      }
    },
    {
      "cell_type": "code",
      "metadata": {
        "id": "oNgUaxCg3JXO"
      },
      "source": [
        "def get_non_private_counts_per_day() -> dict:\n",
        "        \"\"\" 差分プライバシ無しでの曜日毎の訪問者数を計算する。\n",
        "        \n",
        "        曜日(1〜7)と利用者数がマッピングされたdictionaryを返す\n",
        "        \"\"\"\n",
        "        day_counts = dict()\n",
        "\n",
        "        for day in _day_visits[\"Day\"].unique():\n",
        "            day_counts[day] = _day_visits[_day_visits[\"Day\"] == day][\n",
        "                \"Day\"\n",
        "            ].count()\n",
        "\n",
        "        return day_counts    "
      ],
      "execution_count": 6,
      "outputs": []
    },
    {
      "cell_type": "markdown",
      "source": [
        "### 関数定義：DPノイズを入れ、週毎にカウントする関数"
      ],
      "metadata": {
        "id": "WKt-mpJ8SXQq"
      }
    },
    {
      "cell_type": "code",
      "metadata": {
        "id": "bt960IU73QVY"
      },
      "source": [
        "\n",
        "# Cap the maximum number of visiting days at 3 per each visitor (any number above will not be taken into account)\n",
        "COUNT_MAX_CONTRIBUTED_DAYS = 4\n",
        "\n",
        "def get_private_counts_per_day(epsilon: float = _epsilon) -> dict:\n",
        "        \"\"\"指定されたepsilonを満たす差分プライバシありでの曜日毎の訪問者数を計算する。\n",
        "        \n",
        "        曜日(1〜7)と利用者数がマッピングされたdictionaryを返す\n",
        "        \"\"\"\n",
        "        # 事前処理：訪問者が貢献した日数をCOUNT_MAX_CONTRIBUTED_DAYSに制限する。この制限を超えたDataFrameのデータは削除されている。\n",
        "        day_visits = bound_visits_per_week(_day_visits, COUNT_MAX_CONTRIBUTED_DAYS)\n",
        "\n",
        "        day_counts = dict()\n",
        "\n",
        " \n",
        "        x = Count(\n",
        "            epsilon=_epsilon, l0_sensitivity=COUNT_MAX_CONTRIBUTED_DAYS, dtype=\"int\"\n",
        "        )\n",
        "\n",
        "        # 注意: 各曜日の集計は、上記で指定したepsilonを適用する\n",
        "        for day in day_visits[\"Day\"].unique():\n",
        "            x.reset()\n",
        "            day_counts[day] = x.quick_result(\n",
        "                data=list(day_visits[day_visits[\"Day\"] == day][\"Day\"])\n",
        "            )\n",
        "\n",
        "        return day_counts   "
      ],
      "execution_count": 7,
      "outputs": []
    },
    {
      "cell_type": "markdown",
      "source": [
        "### 関数定義： DPノイズあり・なしのそれぞれの関数を呼ぶ関数"
      ],
      "metadata": {
        "id": "egJno1meTEqC"
      }
    },
    {
      "cell_type": "code",
      "metadata": {
        "id": "tBQo0KNnJ_8w"
      },
      "source": [
        "def count_visits_per_day() -> tuple:\n",
        "        \"\"\"一日の時間ごとの訪問回数を計算し、一日とその日の訪問回数を対応させた2つの辞書を返す。\n",
        "        \n",
        "         1つ目の辞書は差分プライバシーなしのカウント計算、2つ目はPyDPライブラリを使ったプライベート計算\n",
        "        \"\"\"\n",
        "        non_private_counts = get_non_private_counts_per_day()\n",
        "        private_counts = get_private_counts_per_day()\n",
        "\n",
        "        return non_private_counts, private_counts"
      ],
      "execution_count": 8,
      "outputs": []
    },
    {
      "cell_type": "markdown",
      "source": [
        "### countの集計を実行\n",
        "集計結果は(曜日,count値)が、1週間分（7個）並んでいる。"
      ],
      "metadata": {
        "id": "s0dObgzzTTHD"
      }
    },
    {
      "cell_type": "code",
      "metadata": {
        "id": "MbwrRVF0KBmf",
        "outputId": "c882a307-d8f1-4279-d771-bcb613814f40",
        "colab": {
          "base_uri": "https://localhost:8080/"
        }
      },
      "source": [
        "# _epsilon = 0.5\n",
        "# COUNT_MAX_CONTRIBUTED_DAYS = 4\n",
        "\n",
        "np_count_day, p_count_day = count_visits_per_day()\n",
        "np_count_day = OrderedDict(sorted(np_count_day.items()))\n",
        "p_count_day = OrderedDict(sorted(p_count_day.items()))\n",
        "\n",
        "print(\"Visits per day:\")\n",
        "print(\"Without differential privacy:\", np_count_day)\n",
        "print(\"With differential privacy:\", p_count_day)"
      ],
      "execution_count": 9,
      "outputs": [
        {
          "output_type": "stream",
          "name": "stdout",
          "text": [
            "Visits per day:\n",
            "Without differential privacy: OrderedDict([(1, 300), (2, 300), (3, 400), (4, 400), (5, 450), (6, 500), (7, 500)])\n",
            "With differential privacy: OrderedDict([(1, 313), (2, 293), (3, 398), (4, 390), (5, 453), (6, 496), (7, 476)])\n"
          ]
        }
      ]
    },
    {
      "cell_type": "markdown",
      "source": [
        "グラフを表示するとわかりますが、今回の分析の目的は、曜日毎のある程度の傾向を知ることです。多少の誤差（ノイズ）が乗っていても、ノイズなしの場合と比較して、同様な傾向が読み取れると思います。\n",
        "\n",
        "つまり、プライバシーを保護しつつ、必要な分析ができています。分析の目的に応じたdata minimizaion原則に従っているとも言えます。"
      ],
      "metadata": {
        "id": "0b1wH4-YYIY8"
      }
    },
    {
      "cell_type": "code",
      "metadata": {
        "id": "SQqooX4EKJmc",
        "outputId": "a00c80e7-ab2e-43e9-cd10-d65a77c3c923",
        "colab": {
          "base_uri": "https://localhost:8080/",
          "height": 299
        }
      },
      "source": [
        "ax = plt.subplot(111)\n",
        "X = np.arange(len(np_count_day.keys()))\n",
        "width = 0.35  # the width of the bars\n",
        "\n",
        "ax.bar(X-width/2, np_count_day.values(), width=width, color='b', align='center')\n",
        "ax.bar(X+width/2, p_count_day.values(), width=width, color='g', align='center')\n",
        "ax.legend(('Without DP','With DP'))\n",
        "ax.set_ylabel('Count')\n",
        "ax.set_xlabel('Day of week')\n",
        "plt.xticks(X, np_count_day.keys())\n",
        "plt.title(\"Vistor count throughout the week\", fontsize=17)\n",
        "plt.show()"
      ],
      "execution_count": 10,
      "outputs": [
        {
          "output_type": "display_data",
          "data": {
            "text/plain": [
              "<Figure size 432x288 with 1 Axes>"
            ],
            "image/png": "[encoded data removed]"
          },
          "metadata": {
            "needs_background": "light"
          }
        }
      ]
    },
    {
      "cell_type": "markdown",
      "source": [
        "### 各自で行うこと\n",
        "* 最大のcontributionを変えて試す\n",
        " * 最大のContributuonを増やすと： ノイズは小さいが、事前処理でデータが消える\n",
        " * 最大のContributuonを減らすと： 事前処理でデータが消えないが、ノイズが大きい\n",
        "* eplisonを変えて試す"
      ],
      "metadata": {
        "id": "ylCZnbEbVrx9"
      }
    },
    {
      "cell_type": "markdown",
      "metadata": {
        "id": "UJM-tZZdQurx"
      },
      "source": [
        "## 集計2: 曜日毎の売上高 （事前集計によるSensitivityの低下）"
      ]
    },
    {
      "cell_type": "markdown",
      "source": [
        "続いて、ある週における、曜日毎の売上数を計測します。\n",
        "ここでは、集計によっては、事前集計することでsensitivityを減らすことができることを学びます。\n",
        "\n",
        "先ほどはcountでしたが、今度は曜日毎の売上集計を行うので、sumです。\n",
        "countのsensitityは1ですが、sumの場合のsensitivityはPart１で説明したとおり、Uper bound - Lower boundで決まります。\n",
        "\n",
        "簡単に考えると、それで良いのですが、sumのような処理の場合は事前集計ができる場合もあるので、コード例を見て学びましょう。"
      ],
      "metadata": {
        "id": "ZBjIK4cAWd7I"
      }
    },
    {
      "cell_type": "markdown",
      "source": [
        "## 集計2-1:事前集計しない例\n",
        "\n",
        "まずは、事前集計しない例を示します。\n",
        "\n",
        "先ほどのcountの時と同様に、１日あたり最大4回購入する前提なので、最大のcontributionを4とします。\n",
        "\n",
        "sumのsensitivityのためには、ECサイトで1人1回あたりの最大の購入金額（売上）の下限と上限を決める必要があります。ここでは、Lowerが0、Upperが50が妥当そうです。\n",
        "\n",
        "なお、上記の条件でsensitivityを考えると、contributionが1〜4なので、Lowerが0x1=0、Upperが4x50=200なので、sensitivityは200となります。\n",
        "\n",
        "コードの概要：\n",
        "1. 関数定義: DPなしでのsum集計する関数\n",
        "2. 関数定義: DPありでのsum集計する関数\n",
        "3. 関数定義: DPあり・なしの関数を呼び出す関数\n",
        "4. DPあり、DPなしの関数を呼び出して、結果表示"
      ],
      "metadata": {
        "id": "1UKCw702Y7N7"
      }
    },
    {
      "cell_type": "markdown",
      "source": [
        "### 関数定義： DPノイズを入れずに、週毎にSumする関数\n",
        "\n",
        "先ほどはcountでしたが、今度はsumです。"
      ],
      "metadata": {
        "id": "ys7433Q1XiMY"
      }
    },
    {
      "cell_type": "code",
      "metadata": {
        "id": "hnobFxZ53Rz1"
      },
      "source": [
        "def get_non_private_sum_revenue() -> dict:\n",
        "        \"\"\"Compute the revenue per day of visits without any differential privacy. \n",
        "        \n",
        "        Return a dictionary mapping days to revenue\n",
        "        \"\"\"\n",
        "        day_revenue = dict()\n",
        "\n",
        "        for day in _day_visits[\"Day\"].unique():\n",
        "            day_revenue[day] = _day_visits[_day_visits[\"Day\"] == day][\n",
        "                \"Money spent (euros)\"\n",
        "            ].sum()\n",
        "\n",
        "        return day_revenue"
      ],
      "execution_count": 11,
      "outputs": []
    },
    {
      "cell_type": "markdown",
      "source": [
        "### 関数定義： DPノイズを入れて、週毎にSumする関数\n",
        "\n",
        "先ほどはcountでしたが、今度はsumです。"
      ],
      "metadata": {
        "id": "OTwJLkiEXvD0"
      }
    },
    {
      "cell_type": "code",
      "metadata": {
        "id": "jJmlnhtI3TSj"
      },
      "source": [
        "SUM_MAX_CONTRIBUTED_DAYS = 4 # Contributionの最大値\n",
        "MIN_EUROS_SPENT = 0 # Lower bound\n",
        "MAX_EUROS_SPENT_1 = 50 # Upper bound\n",
        "\n",
        "def get_private_sum_revenue(epsilon: float = _epsilon) -> dict:\n",
        "        day_visits = bound_visits_per_week(_day_visits, SUM_MAX_CONTRIBUTED_DAYS)\n",
        "\n",
        "        day_revenue = dict()\n",
        "\n",
        "        # Upper bound、Lower bound、contributionを設定\n",
        "        x = BoundedSum(\n",
        "            epsilon=epsilon,\n",
        "            delta=0.0,\n",
        "            lower_bound=MIN_EUROS_SPENT,\n",
        "            upper_bound=MAX_EUROS_SPENT_1,\n",
        "            l0_sensitivity=SUM_MAX_CONTRIBUTED_DAYS,\n",
        "        )\n",
        "\n",
        "        for day in day_visits[\"Day\"].unique():\n",
        "            x.reset()\n",
        "            x.add_entries(\n",
        "                data=list(day_visits[day_visits[\"Day\"] == day][\"Money spent (euros)\"])\n",
        "            )\n",
        "            day_revenue[day] = int(x.result())\n",
        "\n",
        "        return day_revenue\n"
      ],
      "execution_count": 12,
      "outputs": []
    },
    {
      "cell_type": "markdown",
      "source": [
        "### 関数定義： DPノイズあり・なしのそれぞれの関数を呼ぶ関数"
      ],
      "metadata": {
        "id": "hfpvxeU0aBDF"
      }
    },
    {
      "cell_type": "code",
      "metadata": {
        "id": "CsozHyI8PU6g"
      },
      "source": [
        "def sum_revenue_per_day() -> tuple:\n",
        "        non_private_sum = get_non_private_sum_revenue()\n",
        "        private_sum = get_private_sum_revenue()\n",
        "\n",
        "        return non_private_sum, private_sum"
      ],
      "execution_count": 13,
      "outputs": []
    },
    {
      "cell_type": "markdown",
      "source": [
        "### 計算を実行"
      ],
      "metadata": {
        "id": "mMvF0MUddGrb"
      }
    },
    {
      "cell_type": "code",
      "metadata": {
        "id": "DCFesxQZQVp2",
        "outputId": "9bb03970-0f26-4b4f-8121-db66d204283b",
        "colab": {
          "base_uri": "https://localhost:8080/"
        }
      },
      "source": [
        "np_sum_day, p_sum_day = sum_revenue_per_day()\n",
        "np_sum_day = OrderedDict(sorted(np_sum_day.items()))\n",
        "p_sum_day = OrderedDict(sorted(p_sum_day.items()))\n",
        "print(\"Revenue per day:\")\n",
        "print(\"Without differential privacy:\", np_sum_day)\n",
        "print(\"With differential privacy:\", p_sum_day)"
      ],
      "execution_count": 14,
      "outputs": [
        {
          "output_type": "stream",
          "name": "stdout",
          "text": [
            "Revenue per day:\n",
            "Without differential privacy: OrderedDict([(1, 8678), (2, 8696), (3, 12088), (4, 12079), (5, 13765), (6, 16576), (7, 16500)])\n",
            "With differential privacy: OrderedDict([(1, 8894), (2, 8177), (3, 13180), (4, 12050), (5, 13395), (6, 16152), (7, 17207)])\n"
          ]
        }
      ]
    },
    {
      "cell_type": "code",
      "metadata": {
        "id": "bWXPjoC7QYF7",
        "outputId": "ccbd45dd-00b9-4715-bd15-390a168204eb",
        "colab": {
          "base_uri": "https://localhost:8080/",
          "height": 299
        }
      },
      "source": [
        "ax = plt.subplot(111)\n",
        "X = np.arange(len(np_sum_day.keys()))\n",
        "width = 0.35  # the width of the bars\n",
        "ax.bar(X-width/2, np_sum_day.values(), width=width, color='b', align='center')\n",
        "ax.bar(X+width/2, p_sum_day.values(), width=width, color='g', align='center')\n",
        "ax.legend(('Without DP','With DP'))\n",
        "ax.set_ylabel('Revenue')\n",
        "ax.set_xlabel('Day of week')\n",
        "plt.xticks(X, np_sum_day.keys())\n",
        "plt.title(\"Revenue throughout the week\", fontsize=17)\n",
        "plt.show()"
      ],
      "execution_count": 15,
      "outputs": [
        {
          "output_type": "display_data",
          "data": {
            "text/plain": [
              "<Figure size 432x288 with 1 Axes>"
            ],
            "image/png": "[encoded data removed]"
          },
          "metadata": {
            "needs_background": "light"
          }
        }
      ]
    },
    {
      "cell_type": "markdown",
      "source": [
        "## 集計2-2:事前集計する例 (Sensitivityを減らせる）"
      ],
      "metadata": {
        "id": "YEY55uQTaVDL"
      }
    },
    {
      "cell_type": "markdown",
      "source": [
        "ここで、sensitivityを減らせる可能性がある事に気づきます。\n",
        "\n",
        "実際のデータを見ると、ECサイトで１日に4回購入する人は、各回の購入額が少ないことに気づきます。つまり、Upperが4x50=200というのは現実的ではないということです。1日の最大合計は65ユーロであることがわかりました。\n",
        "\n",
        "sensitivity計算のためのLowerとUpperを、ある人が１日に購入する合計額のLowerとUpperとすると、週毎の集計のUpperとLowerを減らせることができます。\n",
        "そのためには事前集計をして、DPノイズを入れる前のレコードは1名のその日の合計額を出し、それに対してUpper,Lower,contributionを設定すれば良いことになります。\n",
        "\n",
        "新たなプライバシーパラメータ：\n",
        "* 1日の1名の合計購入額のLowerは 0 (先ほどと変わらず)\n",
        "* 1日の1名の合計購入額のUpperは 65\n",
        "* 1日の1名の合計購入額なので、１名しか入っていないので、Contributionは1"
      ],
      "metadata": {
        "id": "kkisUwEEafIr"
      }
    },
    {
      "cell_type": "markdown",
      "source": [
        "### 関数定義：事前集計をして、sumを計算しDPノイズを入れる関数"
      ],
      "metadata": {
        "id": "r65ayBLjbWff"
      }
    },
    {
      "cell_type": "code",
      "metadata": {
        "id": "yA8oqcIM3WKP"
      },
      "source": [
        "MAX_EUROS_SPENT_2 = 65 # 変更したUpper bound\n",
        "\n",
        "def get_private_sum_revenue_with_preaggregation(\n",
        "        epsilon: float = _epsilon\n",
        "    ) -> dict:\n",
        "        day_visits = bound_visits_per_week(_day_visits, SUM_MAX_CONTRIBUTED_DAYS)\n",
        "\n",
        "        day_revenue = dict()\n",
        "\n",
        "        # \n",
        "        x = BoundedSum(\n",
        "            epsilon=epsilon,\n",
        "            delta=0.0,\n",
        "            lower_bound=MIN_EUROS_SPENT, # lower bound\n",
        "            upper_bound=MAX_EUROS_SPENT_2, # upper bound\n",
        "            l0_sensitivity=1, # maxのcontributionは1にできる\n",
        "        )\n",
        "\n",
        "        for day in day_visits[\"Day\"].unique():\n",
        "            # For each visitor, 曜日毎に事前の集計処理を行う\n",
        "            visits_on_day = day_visits[day_visits[\"Day\"] == day][\n",
        "                [\"VisitorId\", \"Money spent (euros)\"]\n",
        "            ]\n",
        "            visitor_to_spending = dict()\n",
        "\n",
        "            # その後、DPノイズを付加する\n",
        "            for visitor in visits_on_day[\"VisitorId\"].unique():\n",
        "                visitor_to_spending[visitor] = visits_on_day[\n",
        "                    visits_on_day[\"VisitorId\"] == visitor\n",
        "                ][\"Money spent (euros)\"].sum()\n",
        "\n",
        "            spending = list(visitor_to_spending.values())\n",
        "\n",
        "            x.reset()\n",
        "            x.add_entries(data=spending)\n",
        "            day_revenue[day] = int(x.result())\n",
        "\n",
        "        return day_revenue"
      ],
      "execution_count": 16,
      "outputs": []
    },
    {
      "cell_type": "markdown",
      "source": [
        "### 関数定義： DPノイズあり・なしのそれぞれの関数を呼ぶ関数"
      ],
      "metadata": {
        "id": "Fo8k4aS5dEHP"
      }
    },
    {
      "cell_type": "code",
      "metadata": {
        "id": "I24Cigop3X_A"
      },
      "source": [
        "def sum_revenue_per_day_with_preaggregation() -> tuple:\n",
        "        non_private_sum = get_non_private_sum_revenue()\n",
        "        private_sum = get_private_sum_revenue_with_preaggregation()\n",
        "\n",
        "        return non_private_sum, private_sum"
      ],
      "execution_count": 17,
      "outputs": []
    },
    {
      "cell_type": "markdown",
      "source": [
        "### 計算を実行"
      ],
      "metadata": {
        "id": "lsVJ3MstdNmq"
      }
    },
    {
      "cell_type": "code",
      "metadata": {
        "id": "kCIVk1443_bI",
        "outputId": "d62b9c83-0bda-482b-9570-fd6f6e2979d3",
        "colab": {
          "base_uri": "https://localhost:8080/"
        }
      },
      "source": [
        "np_sum_day_pa, p_sum_day_pa = sum_revenue_per_day_with_preaggregation()\n",
        "np_sum_day_pa = OrderedDict(sorted(np_sum_day_pa.items()))\n",
        "p_sum_day_pa = OrderedDict(sorted(p_sum_day_pa.items()))\n",
        "print(\"Revenue per day with preaggregation:\")\n",
        "print(\"Without differential privacy:\", np_sum_day_pa)\n",
        "print(\"With differential privacy:\", p_sum_day_pa)"
      ],
      "execution_count": 18,
      "outputs": [
        {
          "output_type": "stream",
          "name": "stdout",
          "text": [
            "Revenue per day with preaggregation:\n",
            "Without differential privacy: OrderedDict([(1, 8678), (2, 8696), (3, 12088), (4, 12079), (5, 13765), (6, 16576), (7, 16500)])\n",
            "With differential privacy: OrderedDict([(1, 8488), (2, 8728), (3, 11923), (4, 12232), (5, 13863), (6, 16235), (7, 16062)])\n"
          ]
        }
      ]
    },
    {
      "cell_type": "code",
      "metadata": {
        "id": "TpXetL4_TBid",
        "outputId": "f9cf0b5e-304a-49b2-ca9d-7923e1bd8962",
        "colab": {
          "base_uri": "https://localhost:8080/",
          "height": 299
        }
      },
      "source": [
        "ax = plt.subplot(111)\n",
        "X = np.arange(len(np_sum_day_pa.keys()))\n",
        "width = 0.35  # the width of the bars\n",
        "\n",
        "ax.bar(X-width/2, np_sum_day_pa.values(), width=width, color='b', align='center')\n",
        "ax.bar(X+width/2, p_sum_day_pa.values(), width=width, color='g', align='center')\n",
        "ax.legend(('Without DP','With DP'))\n",
        "ax.set_ylabel('Revenue')\n",
        "ax.set_xlabel('Day of week')\n",
        "plt.xticks(X, np_sum_day_pa.keys())\n",
        "plt.title(\"Revenue with non-unique customer\", fontsize=17)\n",
        "plt.show()"
      ],
      "execution_count": 19,
      "outputs": [
        {
          "output_type": "display_data",
          "data": {
            "text/plain": [
              "<Figure size 432x288 with 1 Axes>"
            ],
            "image/png": "[encoded data removed]"
          },
          "metadata": {
            "needs_background": "light"
          }
        }
      ]
    },
    {
      "cell_type": "markdown",
      "source": [
        "先ほどよりもノイズが少ないように見えます"
      ],
      "metadata": {
        "id": "UvfMiiGddnpO"
      }
    },
    {
      "cell_type": "markdown",
      "metadata": {
        "id": "RxhWSyRPB6_q"
      },
      "source": [
        "# まとめ\n",
        "\n",
        "DPの応用として以下を学びました。\n",
        "* 複数contributionへの対応方法、contributionの上限を設定\n",
        "* 集計に応じたsensitibityの設計、事前集計によりsensitivityを減らす方法"
      ]
    }
  ]
}