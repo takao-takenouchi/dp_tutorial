{
  "nbformat": 4,
  "nbformat_minor": 0,
  "metadata": {
    "colab": {
      "provenance": [],
      "authorship_tag": "ABX9TyNGXwhdtcmFaO+1z2Ozt6ba",
      "include_colab_link": true
    },
    "kernelspec": {
      "name": "python3",
      "display_name": "Python 3"
    },
    "language_info": {
      "name": "python"
    }
  },
  "cells": [
    {
      "cell_type": "markdown",
      "metadata": {
        "id": "view-in-github",
        "colab_type": "text"
      },
      "source": [
        "<a href=\"https://colab.research.google.com/github/takao-takenouchi/dp_tutorial/blob/main/DP_Part1.ipynb\" target=\"_parent\"><img src=\"https://colab.research.google.com/assets/colab-badge.svg\" alt=\"Open In Colab\"/></a>"
      ]
    },
    {
      "cell_type": "markdown",
      "source": [
        "# Part 1: Differential Privacyの基本\n",
        "\n",
        "## はじめに\n",
        "\n",
        "本チュートリアルはPyDPを利用し、Differential Privacyの概要の理解を目指します。PyDPとは、OpenMindが開発しているApache License 2.0で利用可能なOSSライブラリで、Google's Differential Privacy libraryをサポートし、Laplaceノイズに対応し、整数と浮動小数点に対応しています。詳細は、PyDPのサイトを参照ください。\n",
        "https://pydp.readthedocs.io/en/latest/index.html\n",
        "\n",
        "本チュートリアルは、以下を参考に作成しています。\n",
        "*   PyDPのチュートリアル\n",
        "    * OM PriCon2020 Tutorial: Differential Privacy Using PyDP - Chinmay Shah　\n",
        "        * https://www.youtube.com/watch?v=15OgnNsvEo8\n",
        "        * https://github.com/google/differential-privacy/tree/main/examples/java\n",
        "*   GoogleのDifferential Privacyのライブラリのexample\n",
        "    * https://github.com/google/differential-privacy/tree/main/examples/java\n",
        "\n",
        "\n",
        "## チュートリアルの全体構成\n",
        "本チュートリアルは2つのPartに分かれています。\n",
        "*   Part1: Differential Privacyの基本\n",
        "*   Part2: プライバシーパラメータ（Epsilon、Contribution）\n",
        "\n",
        "## 「Part1: Differential Privacyの基本」の学習内容\n",
        "\n",
        "Part1では以下の内容について学びます。\n",
        "*   データベースの1レコードの変化により、プライバシー侵害のリスク\n",
        "*   差分プライバシーを満たすノイズを適用することで、上記リスクを低減できること\n",
        "*   ノイズ付加による有用性の低下(元データからどの程度変化するか)\n",
        "*   epsilonとsensitivity(何を隠すか)\n",
        "*   Privacy Budget(プライバシーの予算)"
      ],
      "metadata": {
        "id": "JfGBJFjZT2iW"
      }
    },
    {
      "cell_type": "markdown",
      "source": [
        "## *サンプルコード*\n",
        "\n",
        "### 準備"
      ],
      "metadata": {
        "id": "7E86HxQSmkM_"
      }
    },
    {
      "cell_type": "code",
      "execution_count": 1,
      "metadata": {
        "colab": {
          "base_uri": "https://localhost:8080/"
        },
        "id": "HWAF7OgVTuSR",
        "outputId": "fa4ab70a-e152-4bf3-9f26-e4e2f2ee2692"
      },
      "outputs": [
        {
          "output_type": "stream",
          "name": "stdout",
          "text": [
            "Looking in indexes: https://pypi.org/simple, https://us-python.pkg.dev/colab-wheels/public/simple/\n",
            "Requirement already satisfied: python-dp in /usr/local/lib/python3.7/dist-packages (1.1.1)\n"
          ]
        }
      ],
      "source": [
        "!pip install python-dp # PyDPをインストール"
      ]
    },
    {
      "cell_type": "code",
      "metadata": {
        "id": "3c-nVwj9w-VW"
      },
      "source": [
        "import pydp as dp # dp (Differential Privacy) としてをインポート\n",
        "from pydp.algorithms.laplacian import BoundedSum, BoundedMean, Count, Max\n",
        "import pandas as pd\n",
        "import statistics # differential privacyを使わずに集計などをするためにインポート\n",
        "import numpy as np\n",
        "import matplotlib.pyplot as plt"
      ],
      "execution_count": 2,
      "outputs": []
    },
    {
      "cell_type": "markdown",
      "metadata": {
        "id": "f_tO7QHYUWnq"
      },
      "source": [
        "#### データを取得 (OpenMindのPyDPのチュートリアルのデータを利用)\n",
        "\n",
        "1000行 x 6列の営業成績のデータで、各行に営業担当者のデータが保存されています。\n",
        "今回は特に、5列目のsales_amountが、営業秘密としてもプライバシーとしても他人知られたくないとします。"
      ]
    },
    {
      "cell_type": "code",
      "metadata": {
        "id": "fCPFolUByhhf",
        "colab": {
          "base_uri": "https://localhost:8080/",
          "height": 224
        },
        "outputId": "d3d1309a-0ac6-4bfe-c492-b06d08fc02cd"
      },
      "source": [
        "# OpenMindのPyDPのチュートリアルのデータがpublickなgithubにあるため取得\n",
        "url = 'https://raw.githubusercontent.com/OpenMined/PyDP/dev/examples/Tutorial_4-Launch_demo/data/01.csv'\n",
        "original_dataset = pd.read_csv(url,sep=\",\", engine = \"python\")\n",
        "print(\"data set size: \", original_dataset.shape)\n",
        "original_dataset.head()"
      ],
      "execution_count": 3,
      "outputs": [
        {
          "output_type": "stream",
          "name": "stdout",
          "text": [
            "data set size:  (1000, 6)\n"
          ]
        },
        {
          "output_type": "execute_result",
          "data": {
            "text/plain": [
              "   id first_name   last_name                      email  sales_amount  \\\n",
              "0   1   Osbourne    Gillions  ogillions0@feedburner.com         31.94   \n",
              "1   2      Glynn      Friett          gfriett1@blog.com         12.46   \n",
              "2   3       Jori    Blockley      jblockley2@unesco.org        191.14   \n",
              "3   4     Garald      Dorian     gdorian3@webeden.co.uk        126.58   \n",
              "4   5      Mercy  Pilkington      mpilkington4@jugem.jp         68.32   \n",
              "\n",
              "        state  \n",
              "0     Florida  \n",
              "1  California  \n",
              "2    Colorado  \n",
              "3       Texas  \n",
              "4     Florida  "
            ],
            "text/html": [
              "\n",
              "  <div id=\"df-c10d85b2-010e-4a17-807a-c7c9b7743dd8\">\n",
              "    <div class=\"colab-df-container\">\n",
              "      <div>\n",
              "<style scoped>\n",
              "    .dataframe tbody tr th:only-of-type {\n",
              "        vertical-align: middle;\n",
              "    }\n",
              "\n",
              "    .dataframe tbody tr th {\n",
              "        vertical-align: top;\n",
              "    }\n",
              "\n",
              "    .dataframe thead th {\n",
              "        text-align: right;\n",
              "    }\n",
              "</style>\n",
              "<table border=\"1\" class=\"dataframe\">\n",
              "  <thead>\n",
              "    <tr style=\"text-align: right;\">\n",
              "      <th></th>\n",
              "      <th>id</th>\n",
              "      <th>first_name</th>\n",
              "      <th>last_name</th>\n",
              "      <th>email</th>\n",
              "      <th>sales_amount</th>\n",
              "      <th>state</th>\n",
              "    </tr>\n",
              "  </thead>\n",
              "  <tbody>\n",
              "    <tr>\n",
              "      <th>0</th>\n",
              "      <td>1</td>\n",
              "      <td>Osbourne</td>\n",
              "      <td>Gillions</td>\n",
              "      <td>ogillions0@feedburner.com</td>\n",
              "      <td>31.94</td>\n",
              "      <td>Florida</td>\n",
              "    </tr>\n",
              "    <tr>\n",
              "      <th>1</th>\n",
              "      <td>2</td>\n",
              "      <td>Glynn</td>\n",
              "      <td>Friett</td>\n",
              "      <td>gfriett1@blog.com</td>\n",
              "      <td>12.46</td>\n",
              "      <td>California</td>\n",
              "    </tr>\n",
              "    <tr>\n",
              "      <th>2</th>\n",
              "      <td>3</td>\n",
              "      <td>Jori</td>\n",
              "      <td>Blockley</td>\n",
              "      <td>jblockley2@unesco.org</td>\n",
              "      <td>191.14</td>\n",
              "      <td>Colorado</td>\n",
              "    </tr>\n",
              "    <tr>\n",
              "      <th>3</th>\n",
              "      <td>4</td>\n",
              "      <td>Garald</td>\n",
              "      <td>Dorian</td>\n",
              "      <td>gdorian3@webeden.co.uk</td>\n",
              "      <td>126.58</td>\n",
              "      <td>Texas</td>\n",
              "    </tr>\n",
              "    <tr>\n",
              "      <th>4</th>\n",
              "      <td>5</td>\n",
              "      <td>Mercy</td>\n",
              "      <td>Pilkington</td>\n",
              "      <td>mpilkington4@jugem.jp</td>\n",
              "      <td>68.32</td>\n",
              "      <td>Florida</td>\n",
              "    </tr>\n",
              "  </tbody>\n",
              "</table>\n",
              "</div>\n",
              "      <button class=\"colab-df-convert\" onclick=\"convertToInteractive('df-c10d85b2-010e-4a17-807a-c7c9b7743dd8')\"\n",
              "              title=\"Convert this dataframe to an interactive table.\"\n",
              "              style=\"display:none;\">\n",
              "        \n",
              "  <svg xmlns=\"http://www.w3.org/2000/svg\" height=\"24px\"viewBox=\"0 0 24 24\"\n",
              "       width=\"24px\">\n",
              "    <path d=\"M0 0h24v24H0V0z\" fill=\"none\"/>\n",
              "    <path d=\"M18.56 5.44l.94 2.06.94-2.06 2.06-.94-2.06-.94-.94-2.06-.94 2.06-2.06.94zm-11 1L8.5 8.5l.94-2.06 2.06-.94-2.06-.94L8.5 2.5l-.94 2.06-2.06.94zm10 10l.94 2.06.94-2.06 2.06-.94-2.06-.94-.94-2.06-.94 2.06-2.06.94z\"/><path d=\"M17.41 7.96l-1.37-1.37c-.4-.4-.92-.59-1.43-.59-.52 0-1.04.2-1.43.59L10.3 9.45l-7.72 7.72c-.78.78-.78 2.05 0 2.83L4 21.41c.39.39.9.59 1.41.59.51 0 1.02-.2 1.41-.59l7.78-7.78 2.81-2.81c.8-.78.8-2.07 0-2.86zM5.41 20L4 18.59l7.72-7.72 1.47 1.35L5.41 20z\"/>\n",
              "  </svg>\n",
              "      </button>\n",
              "      \n",
              "  <style>\n",
              "    .colab-df-container {\n",
              "      display:flex;\n",
              "      flex-wrap:wrap;\n",
              "      gap: 12px;\n",
              "    }\n",
              "\n",
              "    .colab-df-convert {\n",
              "      background-color: #E8F0FE;\n",
              "      border: none;\n",
              "      border-radius: 50%;\n",
              "      cursor: pointer;\n",
              "      display: none;\n",
              "      fill: #1967D2;\n",
              "      height: 32px;\n",
              "      padding: 0 0 0 0;\n",
              "      width: 32px;\n",
              "    }\n",
              "\n",
              "    .colab-df-convert:hover {\n",
              "      background-color: #E2EBFA;\n",
              "      box-shadow: 0px 1px 2px rgba(60, 64, 67, 0.3), 0px 1px 3px 1px rgba(60, 64, 67, 0.15);\n",
              "      fill: #174EA6;\n",
              "    }\n",
              "\n",
              "    [theme=dark] .colab-df-convert {\n",
              "      background-color: #3B4455;\n",
              "      fill: #D2E3FC;\n",
              "    }\n",
              "\n",
              "    [theme=dark] .colab-df-convert:hover {\n",
              "      background-color: #434B5C;\n",
              "      box-shadow: 0px 1px 3px 1px rgba(0, 0, 0, 0.15);\n",
              "      filter: drop-shadow(0px 1px 2px rgba(0, 0, 0, 0.3));\n",
              "      fill: #FFFFFF;\n",
              "    }\n",
              "  </style>\n",
              "\n",
              "      <script>\n",
              "        const buttonEl =\n",
              "          document.querySelector('#df-c10d85b2-010e-4a17-807a-c7c9b7743dd8 button.colab-df-convert');\n",
              "        buttonEl.style.display =\n",
              "          google.colab.kernel.accessAllowed ? 'block' : 'none';\n",
              "\n",
              "        async function convertToInteractive(key) {\n",
              "          const element = document.querySelector('#df-c10d85b2-010e-4a17-807a-c7c9b7743dd8');\n",
              "          const dataTable =\n",
              "            await google.colab.kernel.invokeFunction('convertToInteractive',\n",
              "                                                     [key], {});\n",
              "          if (!dataTable) return;\n",
              "\n",
              "          const docLinkHtml = 'Like what you see? Visit the ' +\n",
              "            '<a target=\"_blank\" href=https://colab.research.google.com/notebooks/data_table.ipynb>data table notebook</a>'\n",
              "            + ' to learn more about interactive tables.';\n",
              "          element.innerHTML = '';\n",
              "          dataTable['output_type'] = 'display_data';\n",
              "          await google.colab.output.renderOutput(dataTable, element);\n",
              "          const docLink = document.createElement('div');\n",
              "          docLink.innerHTML = docLinkHtml;\n",
              "          element.appendChild(docLink);\n",
              "        }\n",
              "      </script>\n",
              "    </div>\n",
              "  </div>\n",
              "  "
            ]
          },
          "metadata": {},
          "execution_count": 3
        }
      ]
    },
    {
      "cell_type": "markdown",
      "metadata": {
        "id": "2DUdhL9NUzwx"
      },
      "source": [
        "\n",
        "### データセットから1行削除\n",
        "\n",
        "ここで、仮に最初の行の営業担当者(Osbourneさん)が退職したとして、削除します。\n",
        "その結果、削除前のデータセット対する集計結果と、削除後のデータセットの集計結果の差から、削除された個人のプライバシー情報が推測される恐れがあることを示したいと思います。"
      ]
    },
    {
      "cell_type": "code",
      "metadata": {
        "id": "EvPUnSW37NOq"
      },
      "source": [
        "# rupdated_datasetを、削除したデータセットとします。元のデータセットはoriginal_datasetです。\n",
        "updated_dataset = original_dataset.copy()\n",
        "updated_dataset = updated_dataset[1:] # 0行目を含めず1行目以降をupdated_datasetに入れているため、このデータセットには以下の行がないはずです\n",
        "# Osbourne\tGillions\togillions0@feedburner.com\t31.94\tFlorida"
      ],
      "execution_count": 4,
      "outputs": []
    },
    {
      "cell_type": "code",
      "metadata": {
        "id": "giEWElTj8QPX",
        "colab": {
          "base_uri": "https://localhost:8080/",
          "height": 206
        },
        "outputId": "4a1ccfdf-b3ec-4f54-9ba4-77f5c0eba3b4"
      },
      "source": [
        "# まずはoriginal_datasetを確認します\n",
        "original_dataset.head()"
      ],
      "execution_count": 5,
      "outputs": [
        {
          "output_type": "execute_result",
          "data": {
            "text/plain": [
              "   id first_name   last_name                      email  sales_amount  \\\n",
              "0   1   Osbourne    Gillions  ogillions0@feedburner.com         31.94   \n",
              "1   2      Glynn      Friett          gfriett1@blog.com         12.46   \n",
              "2   3       Jori    Blockley      jblockley2@unesco.org        191.14   \n",
              "3   4     Garald      Dorian     gdorian3@webeden.co.uk        126.58   \n",
              "4   5      Mercy  Pilkington      mpilkington4@jugem.jp         68.32   \n",
              "\n",
              "        state  \n",
              "0     Florida  \n",
              "1  California  \n",
              "2    Colorado  \n",
              "3       Texas  \n",
              "4     Florida  "
            ],
            "text/html": [
              "\n",
              "  <div id=\"df-5e0611ba-ee89-4753-b7a2-cc060ed7f7fc\">\n",
              "    <div class=\"colab-df-container\">\n",
              "      <div>\n",
              "<style scoped>\n",
              "    .dataframe tbody tr th:only-of-type {\n",
              "        vertical-align: middle;\n",
              "    }\n",
              "\n",
              "    .dataframe tbody tr th {\n",
              "        vertical-align: top;\n",
              "    }\n",
              "\n",
              "    .dataframe thead th {\n",
              "        text-align: right;\n",
              "    }\n",
              "</style>\n",
              "<table border=\"1\" class=\"dataframe\">\n",
              "  <thead>\n",
              "    <tr style=\"text-align: right;\">\n",
              "      <th></th>\n",
              "      <th>id</th>\n",
              "      <th>first_name</th>\n",
              "      <th>last_name</th>\n",
              "      <th>email</th>\n",
              "      <th>sales_amount</th>\n",
              "      <th>state</th>\n",
              "    </tr>\n",
              "  </thead>\n",
              "  <tbody>\n",
              "    <tr>\n",
              "      <th>0</th>\n",
              "      <td>1</td>\n",
              "      <td>Osbourne</td>\n",
              "      <td>Gillions</td>\n",
              "      <td>ogillions0@feedburner.com</td>\n",
              "      <td>31.94</td>\n",
              "      <td>Florida</td>\n",
              "    </tr>\n",
              "    <tr>\n",
              "      <th>1</th>\n",
              "      <td>2</td>\n",
              "      <td>Glynn</td>\n",
              "      <td>Friett</td>\n",
              "      <td>gfriett1@blog.com</td>\n",
              "      <td>12.46</td>\n",
              "      <td>California</td>\n",
              "    </tr>\n",
              "    <tr>\n",
              "      <th>2</th>\n",
              "      <td>3</td>\n",
              "      <td>Jori</td>\n",
              "      <td>Blockley</td>\n",
              "      <td>jblockley2@unesco.org</td>\n",
              "      <td>191.14</td>\n",
              "      <td>Colorado</td>\n",
              "    </tr>\n",
              "    <tr>\n",
              "      <th>3</th>\n",
              "      <td>4</td>\n",
              "      <td>Garald</td>\n",
              "      <td>Dorian</td>\n",
              "      <td>gdorian3@webeden.co.uk</td>\n",
              "      <td>126.58</td>\n",
              "      <td>Texas</td>\n",
              "    </tr>\n",
              "    <tr>\n",
              "      <th>4</th>\n",
              "      <td>5</td>\n",
              "      <td>Mercy</td>\n",
              "      <td>Pilkington</td>\n",
              "      <td>mpilkington4@jugem.jp</td>\n",
              "      <td>68.32</td>\n",
              "      <td>Florida</td>\n",
              "    </tr>\n",
              "  </tbody>\n",
              "</table>\n",
              "</div>\n",
              "      <button class=\"colab-df-convert\" onclick=\"convertToInteractive('df-5e0611ba-ee89-4753-b7a2-cc060ed7f7fc')\"\n",
              "              title=\"Convert this dataframe to an interactive table.\"\n",
              "              style=\"display:none;\">\n",
              "        \n",
              "  <svg xmlns=\"http://www.w3.org/2000/svg\" height=\"24px\"viewBox=\"0 0 24 24\"\n",
              "       width=\"24px\">\n",
              "    <path d=\"M0 0h24v24H0V0z\" fill=\"none\"/>\n",
              "    <path d=\"M18.56 5.44l.94 2.06.94-2.06 2.06-.94-2.06-.94-.94-2.06-.94 2.06-2.06.94zm-11 1L8.5 8.5l.94-2.06 2.06-.94-2.06-.94L8.5 2.5l-.94 2.06-2.06.94zm10 10l.94 2.06.94-2.06 2.06-.94-2.06-.94-.94-2.06-.94 2.06-2.06.94z\"/><path d=\"M17.41 7.96l-1.37-1.37c-.4-.4-.92-.59-1.43-.59-.52 0-1.04.2-1.43.59L10.3 9.45l-7.72 7.72c-.78.78-.78 2.05 0 2.83L4 21.41c.39.39.9.59 1.41.59.51 0 1.02-.2 1.41-.59l7.78-7.78 2.81-2.81c.8-.78.8-2.07 0-2.86zM5.41 20L4 18.59l7.72-7.72 1.47 1.35L5.41 20z\"/>\n",
              "  </svg>\n",
              "      </button>\n",
              "      \n",
              "  <style>\n",
              "    .colab-df-container {\n",
              "      display:flex;\n",
              "      flex-wrap:wrap;\n",
              "      gap: 12px;\n",
              "    }\n",
              "\n",
              "    .colab-df-convert {\n",
              "      background-color: #E8F0FE;\n",
              "      border: none;\n",
              "      border-radius: 50%;\n",
              "      cursor: pointer;\n",
              "      display: none;\n",
              "      fill: #1967D2;\n",
              "      height: 32px;\n",
              "      padding: 0 0 0 0;\n",
              "      width: 32px;\n",
              "    }\n",
              "\n",
              "    .colab-df-convert:hover {\n",
              "      background-color: #E2EBFA;\n",
              "      box-shadow: 0px 1px 2px rgba(60, 64, 67, 0.3), 0px 1px 3px 1px rgba(60, 64, 67, 0.15);\n",
              "      fill: #174EA6;\n",
              "    }\n",
              "\n",
              "    [theme=dark] .colab-df-convert {\n",
              "      background-color: #3B4455;\n",
              "      fill: #D2E3FC;\n",
              "    }\n",
              "\n",
              "    [theme=dark] .colab-df-convert:hover {\n",
              "      background-color: #434B5C;\n",
              "      box-shadow: 0px 1px 3px 1px rgba(0, 0, 0, 0.15);\n",
              "      filter: drop-shadow(0px 1px 2px rgba(0, 0, 0, 0.3));\n",
              "      fill: #FFFFFF;\n",
              "    }\n",
              "  </style>\n",
              "\n",
              "      <script>\n",
              "        const buttonEl =\n",
              "          document.querySelector('#df-5e0611ba-ee89-4753-b7a2-cc060ed7f7fc button.colab-df-convert');\n",
              "        buttonEl.style.display =\n",
              "          google.colab.kernel.accessAllowed ? 'block' : 'none';\n",
              "\n",
              "        async function convertToInteractive(key) {\n",
              "          const element = document.querySelector('#df-5e0611ba-ee89-4753-b7a2-cc060ed7f7fc');\n",
              "          const dataTable =\n",
              "            await google.colab.kernel.invokeFunction('convertToInteractive',\n",
              "                                                     [key], {});\n",
              "          if (!dataTable) return;\n",
              "\n",
              "          const docLinkHtml = 'Like what you see? Visit the ' +\n",
              "            '<a target=\"_blank\" href=https://colab.research.google.com/notebooks/data_table.ipynb>data table notebook</a>'\n",
              "            + ' to learn more about interactive tables.';\n",
              "          element.innerHTML = '';\n",
              "          dataTable['output_type'] = 'display_data';\n",
              "          await google.colab.output.renderOutput(dataTable, element);\n",
              "          const docLink = document.createElement('div');\n",
              "          docLink.innerHTML = docLinkHtml;\n",
              "          element.appendChild(docLink);\n",
              "        }\n",
              "      </script>\n",
              "    </div>\n",
              "  </div>\n",
              "  "
            ]
          },
          "metadata": {},
          "execution_count": 5
        }
      ]
    },
    {
      "cell_type": "code",
      "metadata": {
        "id": "oQpIHUte8RMg",
        "colab": {
          "base_uri": "https://localhost:8080/",
          "height": 206
        },
        "outputId": "e9cccf47-5da6-4133-d545-d7f59ab265ed"
      },
      "source": [
        "# 続いてoriginal_datasetを確認します\n",
        "updated_dataset.head()"
      ],
      "execution_count": 6,
      "outputs": [
        {
          "output_type": "execute_result",
          "data": {
            "text/plain": [
              "   id first_name   last_name                    email  sales_amount  \\\n",
              "1   2      Glynn      Friett        gfriett1@blog.com         12.46   \n",
              "2   3       Jori    Blockley    jblockley2@unesco.org        191.14   \n",
              "3   4     Garald      Dorian   gdorian3@webeden.co.uk        126.58   \n",
              "4   5      Mercy  Pilkington    mpilkington4@jugem.jp         68.32   \n",
              "5   6       Elle  McConachie  emcconachie5@census.gov         76.91   \n",
              "\n",
              "        state  \n",
              "1  California  \n",
              "2    Colorado  \n",
              "3       Texas  \n",
              "4     Florida  \n",
              "5       Texas  "
            ],
            "text/html": [
              "\n",
              "  <div id=\"df-0472f7a1-63d2-491f-a3cb-11f59184402f\">\n",
              "    <div class=\"colab-df-container\">\n",
              "      <div>\n",
              "<style scoped>\n",
              "    .dataframe tbody tr th:only-of-type {\n",
              "        vertical-align: middle;\n",
              "    }\n",
              "\n",
              "    .dataframe tbody tr th {\n",
              "        vertical-align: top;\n",
              "    }\n",
              "\n",
              "    .dataframe thead th {\n",
              "        text-align: right;\n",
              "    }\n",
              "</style>\n",
              "<table border=\"1\" class=\"dataframe\">\n",
              "  <thead>\n",
              "    <tr style=\"text-align: right;\">\n",
              "      <th></th>\n",
              "      <th>id</th>\n",
              "      <th>first_name</th>\n",
              "      <th>last_name</th>\n",
              "      <th>email</th>\n",
              "      <th>sales_amount</th>\n",
              "      <th>state</th>\n",
              "    </tr>\n",
              "  </thead>\n",
              "  <tbody>\n",
              "    <tr>\n",
              "      <th>1</th>\n",
              "      <td>2</td>\n",
              "      <td>Glynn</td>\n",
              "      <td>Friett</td>\n",
              "      <td>gfriett1@blog.com</td>\n",
              "      <td>12.46</td>\n",
              "      <td>California</td>\n",
              "    </tr>\n",
              "    <tr>\n",
              "      <th>2</th>\n",
              "      <td>3</td>\n",
              "      <td>Jori</td>\n",
              "      <td>Blockley</td>\n",
              "      <td>jblockley2@unesco.org</td>\n",
              "      <td>191.14</td>\n",
              "      <td>Colorado</td>\n",
              "    </tr>\n",
              "    <tr>\n",
              "      <th>3</th>\n",
              "      <td>4</td>\n",
              "      <td>Garald</td>\n",
              "      <td>Dorian</td>\n",
              "      <td>gdorian3@webeden.co.uk</td>\n",
              "      <td>126.58</td>\n",
              "      <td>Texas</td>\n",
              "    </tr>\n",
              "    <tr>\n",
              "      <th>4</th>\n",
              "      <td>5</td>\n",
              "      <td>Mercy</td>\n",
              "      <td>Pilkington</td>\n",
              "      <td>mpilkington4@jugem.jp</td>\n",
              "      <td>68.32</td>\n",
              "      <td>Florida</td>\n",
              "    </tr>\n",
              "    <tr>\n",
              "      <th>5</th>\n",
              "      <td>6</td>\n",
              "      <td>Elle</td>\n",
              "      <td>McConachie</td>\n",
              "      <td>emcconachie5@census.gov</td>\n",
              "      <td>76.91</td>\n",
              "      <td>Texas</td>\n",
              "    </tr>\n",
              "  </tbody>\n",
              "</table>\n",
              "</div>\n",
              "      <button class=\"colab-df-convert\" onclick=\"convertToInteractive('df-0472f7a1-63d2-491f-a3cb-11f59184402f')\"\n",
              "              title=\"Convert this dataframe to an interactive table.\"\n",
              "              style=\"display:none;\">\n",
              "        \n",
              "  <svg xmlns=\"http://www.w3.org/2000/svg\" height=\"24px\"viewBox=\"0 0 24 24\"\n",
              "       width=\"24px\">\n",
              "    <path d=\"M0 0h24v24H0V0z\" fill=\"none\"/>\n",
              "    <path d=\"M18.56 5.44l.94 2.06.94-2.06 2.06-.94-2.06-.94-.94-2.06-.94 2.06-2.06.94zm-11 1L8.5 8.5l.94-2.06 2.06-.94-2.06-.94L8.5 2.5l-.94 2.06-2.06.94zm10 10l.94 2.06.94-2.06 2.06-.94-2.06-.94-.94-2.06-.94 2.06-2.06.94z\"/><path d=\"M17.41 7.96l-1.37-1.37c-.4-.4-.92-.59-1.43-.59-.52 0-1.04.2-1.43.59L10.3 9.45l-7.72 7.72c-.78.78-.78 2.05 0 2.83L4 21.41c.39.39.9.59 1.41.59.51 0 1.02-.2 1.41-.59l7.78-7.78 2.81-2.81c.8-.78.8-2.07 0-2.86zM5.41 20L4 18.59l7.72-7.72 1.47 1.35L5.41 20z\"/>\n",
              "  </svg>\n",
              "      </button>\n",
              "      \n",
              "  <style>\n",
              "    .colab-df-container {\n",
              "      display:flex;\n",
              "      flex-wrap:wrap;\n",
              "      gap: 12px;\n",
              "    }\n",
              "\n",
              "    .colab-df-convert {\n",
              "      background-color: #E8F0FE;\n",
              "      border: none;\n",
              "      border-radius: 50%;\n",
              "      cursor: pointer;\n",
              "      display: none;\n",
              "      fill: #1967D2;\n",
              "      height: 32px;\n",
              "      padding: 0 0 0 0;\n",
              "      width: 32px;\n",
              "    }\n",
              "\n",
              "    .colab-df-convert:hover {\n",
              "      background-color: #E2EBFA;\n",
              "      box-shadow: 0px 1px 2px rgba(60, 64, 67, 0.3), 0px 1px 3px 1px rgba(60, 64, 67, 0.15);\n",
              "      fill: #174EA6;\n",
              "    }\n",
              "\n",
              "    [theme=dark] .colab-df-convert {\n",
              "      background-color: #3B4455;\n",
              "      fill: #D2E3FC;\n",
              "    }\n",
              "\n",
              "    [theme=dark] .colab-df-convert:hover {\n",
              "      background-color: #434B5C;\n",
              "      box-shadow: 0px 1px 3px 1px rgba(0, 0, 0, 0.15);\n",
              "      filter: drop-shadow(0px 1px 2px rgba(0, 0, 0, 0.3));\n",
              "      fill: #FFFFFF;\n",
              "    }\n",
              "  </style>\n",
              "\n",
              "      <script>\n",
              "        const buttonEl =\n",
              "          document.querySelector('#df-0472f7a1-63d2-491f-a3cb-11f59184402f button.colab-df-convert');\n",
              "        buttonEl.style.display =\n",
              "          google.colab.kernel.accessAllowed ? 'block' : 'none';\n",
              "\n",
              "        async function convertToInteractive(key) {\n",
              "          const element = document.querySelector('#df-0472f7a1-63d2-491f-a3cb-11f59184402f');\n",
              "          const dataTable =\n",
              "            await google.colab.kernel.invokeFunction('convertToInteractive',\n",
              "                                                     [key], {});\n",
              "          if (!dataTable) return;\n",
              "\n",
              "          const docLinkHtml = 'Like what you see? Visit the ' +\n",
              "            '<a target=\"_blank\" href=https://colab.research.google.com/notebooks/data_table.ipynb>data table notebook</a>'\n",
              "            + ' to learn more about interactive tables.';\n",
              "          element.innerHTML = '';\n",
              "          dataTable['output_type'] = 'display_data';\n",
              "          await google.colab.output.renderOutput(dataTable, element);\n",
              "          const docLink = document.createElement('div');\n",
              "          docLink.innerHTML = docLinkHtml;\n",
              "          element.appendChild(docLink);\n",
              "        }\n",
              "      </script>\n",
              "    </div>\n",
              "  </div>\n",
              "  "
            ]
          },
          "metadata": {},
          "execution_count": 6
        }
      ]
    },
    {
      "cell_type": "markdown",
      "metadata": {
        "id": "TwOe-usOVUWg"
      },
      "source": [
        "#### 集計例1: 両方のデータセットについて合計(Sum)の差からのプライバシー侵害\n",
        "\n",
        "元のデータセット(`original_dataset`)と、1行削除したデータセット(`updated_dataset`)について、それぞれ`sales_amount`の合計を計算します。\n",
        "\n",
        "そして、その合計の差を計算すると、削除された行の`sales_amount`がわかってしまいます。\n",
        "\n",
        "ここで、もし攻撃者（プライバシーに関わる情報を知りたいと考えている人）が、削除された行がOsbourneであることが知っていたとしたら(先日退職したのがOsbourne１名だけだったと知っていたとしたら)、この差の値が、Osbourneの`sales_amount`であると推測できてしまいます。"
      ]
    },
    {
      "cell_type": "code",
      "source": [],
      "metadata": {
        "id": "_6ed5rX9xcYx"
      },
      "execution_count": 6,
      "outputs": []
    },
    {
      "cell_type": "code",
      "metadata": {
        "id": "9MhkhR43VUIq",
        "colab": {
          "base_uri": "https://localhost:8080/"
        },
        "outputId": "b9cf08b0-4217-4b62-994a-f499142103c6"
      },
      "source": [
        "# 各データセットのsales_amountのsumを計算\n",
        "sum_original_dataset = sum(original_dataset['sales_amount'].to_list())\n",
        "sum_updated_dataset = sum(updated_dataset['sales_amount'].to_list())\n",
        "# 差を計算\n",
        "sales_amount_Osbourne = sum_original_dataset - sum_updated_dataset\n",
        "# floatの計算時の誤差があるため、小数点2桁目で四捨五入\n",
        "sales_amount_Osbourne = round(sales_amount_Osbourne, 2)\n",
        "print(\"sum_original_dataset - sum_updated_dataset = \", sales_amount_Osbourne)\n",
        "# 一応original_datasetで一致することを確認\n",
        "assert sales_amount_Osbourne == original_dataset.iloc[0, 4]"
      ],
      "execution_count": 7,
      "outputs": [
        {
          "output_type": "stream",
          "name": "stdout",
          "text": [
            "sum_original_dataset - sum_updated_dataset =  31.94\n"
          ]
        }
      ]
    },
    {
      "cell_type": "markdown",
      "metadata": {
        "id": "Ow-YMPuWXKq2"
      },
      "source": [
        "#### Differential Privacyによるプライバシー侵害の抑制\n",
        "\n",
        "このような1行の差によるプライバシー侵害が起こる可能性あるため、Differential Privacy(DP)の考え方を適用し、合計値に適切なノイズを加えます。\n",
        "\n",
        "以降では、元のデータセット(`original_dataset`)と、1行削除したデータセット(`updated_dataset`)について適切なノイズを入れることで、ノイズ入りの合計値であると区別ができないことを示していきます。"
      ]
    },
    {
      "cell_type": "code",
      "metadata": {
        "id": "JSc_hccb8TmJ"
      },
      "source": [
        "# まずは、original_datasetについて、ノイズ入りの合計値を得ます。\n",
        "# \n",
        "# PyDPのBoundedSumを用いてノイズ付きの合計値を計算します。\n",
        "# BoundedSumには、epsilonの値、1行の最小値と最大値を指定できます。なお、数値のdata typeも指定できます。\n",
        "# ここでは仮に、epsilonを1.5、sales_amountの最小値を5、最大値を250と設定します。\n",
        "bs_original_dataset = BoundedSum(epsilon= 1.5, lower_bound =  5, upper_bound = 250, dtype ='float')\n",
        "\n",
        "# ノイズを入れた結果を得ます\n",
        "sum_original_dataset_dp = bs_original_dataset.quick_result(original_dataset['sales_amount'].to_list()) \n",
        "\n",
        "# 続いて、同様にupdated_datasetについて、ノイズ入りの合計値を得ます。\n",
        "bs_updated_dataset = BoundedSum(epsilon= 1.5, lower_bound =  5, upper_bound = 250, dtype ='float')\n",
        "sum_updated_dataset_dp = bs_updated_dataset.quick_result(updated_dataset['sales_amount'].to_list()) \n",
        "\n",
        "# わかりやすさのため全て少数点2桁目でroundします\n",
        "sum_original_dataset = round(sum_original_dataset, 2)\n",
        "sum_original_dataset_dp = round(sum_original_dataset_dp, 2)\n",
        "sum_updated_dataset_dp = round(sum_updated_dataset_dp, 2)"
      ],
      "execution_count": 8,
      "outputs": []
    },
    {
      "cell_type": "markdown",
      "source": [
        "#### 結果を確認\n",
        " \n",
        "まずは、結果を見てみると、originalなノイズなしのデータと比較して、両方ともノイズが入っています。\n",
        "\n",
        "また、ノイズが入った両方のデータは、どちらが削除したデータセットからの集計値なのか区別は困難そうです。\n",
        "\n",
        "ノイズが入ったデータに対して差をとっても、ノイズなしのデータでの差とは異なります。"
      ],
      "metadata": {
        "id": "0xtHnvwepvhL"
      }
    },
    {
      "cell_type": "code",
      "source": [
        "print(\"Sum of sales_value in the orignal Dataset: {}\".format(sum_original_dataset))\n",
        "print(\"Sum of sales_value in the orignal Dataset using DP: {}\".format(sum_original_dataset_dp))\n",
        "print(\"Sum of sales_value in the updated Dataset using DP: {}\".format(sum_updated_dataset_dp))\n",
        "\n",
        "print(\"Difference in sum using DP: {}\".format( round(sum_original_dataset_dp - sum_updated_dataset_dp, 2)))\n",
        "print(\"Difference of actual value: {}\".format(sales_amount_Osbourne))"
      ],
      "metadata": {
        "colab": {
          "base_uri": "https://localhost:8080/"
        },
        "id": "x4STYClmpsiI",
        "outputId": "ded82111-52e9-497f-98de-e0b8e76a367e"
      },
      "execution_count": 9,
      "outputs": [
        {
          "output_type": "stream",
          "name": "stdout",
          "text": [
            "Sum of sales_value in the orignal Dataset: 127931.38\n",
            "Sum of sales_value in the orignal Dataset using DP: 128001.52\n",
            "Sum of sales_value in the updated Dataset using DP: 127963.82\n",
            "Difference in sum using DP: 37.7\n",
            "Difference of actual value: 31.94\n"
          ]
        }
      ]
    },
    {
      "cell_type": "markdown",
      "source": [
        "グラフで見てもその様子がわかります。"
      ],
      "metadata": {
        "id": "1KPprYMEtOL9"
      }
    },
    {
      "cell_type": "code",
      "metadata": {
        "id": "o598TnDkaB4b",
        "colab": {
          "base_uri": "https://localhost:8080/",
          "height": 265
        },
        "outputId": "a9783afd-5f51-468e-8f6e-9f3b0093083d"
      },
      "source": [
        "top=[('Original', sum_original_dataset), ('Updated', sum_updated_dataset), ('Original with DP', sum_original_dataset_dp), ('updated DP', sum_updated_dataset_dp)]\n",
        "\n",
        "# originalとの差を計算したバージョン\n",
        "#top=[('Original', 0), ('Updated', sum_updated_dataset - sum_original_dataset), ('Original with DP', sum_original_dataset_dp - sum_original_dataset), ('updated DP', sum_updated_dataset_dp - sum_original_dataset)]\n",
        "\n",
        "\n",
        "labels, ys = zip(*top)\n",
        "xs = np.arange(len(labels)) \n",
        "width = 0.3\n",
        "\n",
        "plt.bar(xs, ys, width, align='center')\n",
        "\n",
        "plt.xticks(xs, labels)\n",
        "plt.yticks(ys)\n",
        "plt.show()\n"
      ],
      "execution_count": 10,
      "outputs": [
        {
          "output_type": "display_data",
          "data": {
            "text/plain": [
              "<Figure size 432x288 with 1 Axes>"
            ],
            "image/png": "[encoded data removed]"
          },
          "metadata": {
            "needs_background": "light"
          }
        }
      ]
    },
    {
      "cell_type": "markdown",
      "source": [
        "### epsilonやsensitivityの説明\n",
        "\n",
        "先ほどは、\n",
        "` BoundedSum(epsilon= 1.5, lower_bound =  5, upper_bound = 250, dtype ='float') `\n",
        "と、とりあえず設定していましたが、詳細を説明します。\n",
        "\n",
        "epsilonは、DPのパラメータで、3.5以下が望ましいとされています。\n",
        "\n",
        "lower_boundとupper_boundは、sensitivityに関係します。\n",
        "sensitivityは、何を隠すかに関わり、今回はある1行（ある一人）についての変化（人が増えた・減った、sales_valueが増えた・減った）を隠したいということになります。\n",
        "lower_boundとupper_boundを設定することで、この変化(sensitivity)を`upper_bound - lower_bound` と設定することになります。つまり今回は、250 - 5 = 245 となります。\n",
        "\n"
      ],
      "metadata": {
        "id": "ZFpyWua_yFeV"
      }
    },
    {
      "cell_type": "markdown",
      "source": [
        "### 各自で試す\n",
        "\n",
        "*   上記のコードを何度か動かし、毎回ノイズが変わること、どの程度変わるかなど確かめてください。\n",
        "*   epsilonの値を変化させ、ノイズがどのように変わるか確かめてください。(例： 5, 10と増やしたり、0.1, 0.01と減らしたり)\n",
        "*   同様にupper_boundやlower_boundを変えてください。\n",
        "\n"
      ],
      "metadata": {
        "id": "O8at5F311Kt8"
      }
    },
    {
      "cell_type": "markdown",
      "source": [
        "## 集計例2: 両方のデータセットについてカウント(count)の差からのプライバシー侵害\n",
        "\n",
        "先ほどは、合計値からのプライバシー侵害でしたが、count(行数)からのプライバシー侵害の可能性もあります。もし攻撃者が、毎日行数を得れるとして、この会社の退職の時期を知りたいとしていた場合、行数が1行減っていたら退職したのだとわかります。\n",
        "\n",
        "これを防ぐには、行数にDifferential Privacyを満たすノイズを加えることで、推測を困難にできます。\n",
        "\n",
        "なお、countの場合は、sensitivityは1です。"
      ],
      "metadata": {
        "id": "JtRw510Bwbxd"
      }
    },
    {
      "cell_type": "code",
      "source": [
        "# まずはoriginal_datasetについて計算\n",
        "# DPノイズを入れないcountを計算\n",
        "count_original_dataset = len(original_dataset.id.tolist())\n",
        "# DPノイズを入れたcountを計算\n",
        "c_original_dataset = Count(epsilon= 0.5)\n",
        "count_original_dataset_dp = c_original_dataset.quick_result(original_dataset.id.tolist())\n",
        "\n",
        "# 続いてupdate_datasetについても同様に計算\n",
        "count_updated_dataset = len(updated_dataset.id.tolist())\n",
        "c_updated_dataset = Count(epsilon= 0.5)\n",
        "count_updated_dataset_dp = c_updated_dataset.quick_result(updated_dataset.id.tolist())\n",
        "\n",
        "\n",
        "print(\"count_original_dataset=\",count_original_dataset)\n",
        "print(\"count_updated_dataset=\",count_updated_dataset)\n",
        "print(\"count_original_dataset_dp=\",count_original_dataset_dp)\n",
        "print(\"count_updated_dataset_dp=\",count_updated_dataset_dp)"
      ],
      "metadata": {
        "colab": {
          "base_uri": "https://localhost:8080/"
        },
        "id": "DWuJI1Qr1cvk",
        "outputId": "6a444c8a-e230-4418-8664-b69c41f5adc3"
      },
      "execution_count": 11,
      "outputs": [
        {
          "output_type": "stream",
          "name": "stdout",
          "text": [
            "count_original_dataset= 1000\n",
            "count_updated_dataset= 999\n",
            "count_original_dataset_dp= 1000\n",
            "count_updated_dataset_dp= 1002\n"
          ]
        }
      ]
    },
    {
      "cell_type": "markdown",
      "source": [
        "同様に、epsilonを変化させてみると良いと思います。先ほどのSumはepsilonを1.5にしていましたので、試しに1.5にするとどうでしょうか？"
      ],
      "metadata": {
        "id": "4qzegrzW8Xs6"
      }
    },
    {
      "cell_type": "markdown",
      "source": [
        "## Privacy budgetについて\n",
        "\n",
        "続いてPrivacy budgetについて説明します。\n",
        "\n",
        "PyDPではPrivacy budgetの簡単な管理が可能です。最初にPrivacy budgetを設定し、ノイズ入りの集計をする際に、どの程度Privacy budgetを消費するか設定可能です。\n",
        "そして、最初に設定Privacy budgetがなくなったら、集計ができなくするような処理が可能です。\n"
      ],
      "metadata": {
        "id": "rB8zXx2b8_G9"
      }
    },
    {
      "cell_type": "code",
      "source": [
        "c_original_dataset = Count(epsilon= 3.0)\n",
        "dp = c_original_dataset\n",
        "print(\"original count=\", len(original_dataset))\n",
        "print(\"privacy_budget_left=\", dp.privacy_budget_left())\n",
        "\n",
        "# データを入れる\n",
        "dp.add_entries(original_dataset.id.tolist())\n",
        "# Privacy Budgetを50%消費して計算させる\n",
        "count1 = dp.result(0.5)\n",
        "print(\"count1=\", count1)\n",
        "print(\"privacy_budget_left=\", dp.privacy_budget_left())\n",
        "\n",
        "# 1名が追加されたとする。そして、さらにPrivacy Budgetを50%消費して計算させる。\n",
        "dp.add_entries([1])\n",
        "count2 = dp.result(0.5)\n",
        "print(\"count2=\", count2)\n",
        "print(\"privacy_budget_left=\", dp.privacy_budget_left())\n",
        "\n",
        "# さらに1名追加となり、もう一度計算しようとしてもエラーとなる\n",
        "#dp.add_entries([1])\n",
        "#count3 = dp.result(0.5)\n"
      ],
      "metadata": {
        "colab": {
          "base_uri": "https://localhost:8080/"
        },
        "id": "kXfVttmBXAqR",
        "outputId": "07dd395c-ab1b-4bdf-bf0e-d75d34d15a09"
      },
      "execution_count": 12,
      "outputs": [
        {
          "output_type": "stream",
          "name": "stdout",
          "text": [
            "original count= 1000\n",
            "privacy_budget_left= 1.0\n",
            "count1= 997\n",
            "privacy_budget_left= 0.5\n",
            "count2= 1002\n",
            "privacy_budget_left= 0.0\n"
          ]
        }
      ]
    },
    {
      "cell_type": "code",
      "source": [],
      "metadata": {
        "id": "RoueKgjt9hQS"
      },
      "execution_count": 12,
      "outputs": []
    },
    {
      "cell_type": "markdown",
      "metadata": {
        "id": "doQI5qjuCYrT"
      },
      "source": [
        "### まとめ:\n",
        "\n",
        "Differential Privacyを満たすようなノイズを入れることで、個人のプライバシー侵害を防ぐことが可能\n",
        "\n",
        "*   epsilonとsensitivityが重要\n",
        "*   sumの場合はLowerBoundとUpperBoundを設定して、sensitivityが決まる\n",
        "*   countの場合はsensitivityは1\n",
        "*   Privacy Badgetという考え方がある\n",
        "\n",
        "\n"
      ]
    },
    {
      "cell_type": "markdown",
      "source": [
        "### 参考コード\n",
        "\n",
        "sum集計について、DPノイズを何度か試して、ノイズがどの程度乗っているのか確かめる。\n"
      ],
      "metadata": {
        "id": "iQK-qq6XAJ6J"
      }
    },
    {
      "cell_type": "code",
      "source": [
        "for i in (range(10)):\n",
        "    bs_original_dataset.reset()\n",
        "    bs_original_dataset.add_entries(original_dataset['sales_amount'].to_list())\n",
        "    dp_sum_original = bs_original_dataset.result()\n",
        "    # print(sum_original_dataset)\n",
        "    # print(dp_sum_updated)\n",
        "    print(round(sum_original_dataset - dp_sum_original))"
      ],
      "metadata": {
        "colab": {
          "base_uri": "https://localhost:8080/"
        },
        "id": "2AlnDpi0SkoX",
        "outputId": "c391066f-eb0e-4ca8-a6ce-d275959d2301"
      },
      "execution_count": 13,
      "outputs": [
        {
          "output_type": "stream",
          "name": "stdout",
          "text": [
            "187\n",
            "-30\n",
            "304\n",
            "-11\n",
            "112\n",
            "218\n",
            "-87\n",
            "-125\n",
            "-239\n",
            "-43\n"
          ]
        }
      ]
    }
  ]
}